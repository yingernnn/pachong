{
 "cells": [
  {
   "cell_type": "code",
   "execution_count": 154,
   "metadata": {},
   "outputs": [],
   "source": [
    "# 导入需要的库\n",
    "import requests\n",
    "import re"
   ]
  },
  {
   "cell_type": "code",
   "execution_count": 155,
   "metadata": {},
   "outputs": [],
   "source": [
    "#定义要爬取的url\n",
    "url='https://www.csdn.net/nav/python?spm=1000.2115.3001.4125'"
   ]
  },
  {
   "cell_type": "code",
   "execution_count": 156,
   "metadata": {},
   "outputs": [],
   "source": [
    "# 获取页面的html源码\n",
    "response=requests.get(url)"
   ]
  },
  {
   "cell_type": "markdown",
   "metadata": {},
   "source": [
    "# 正则"
   ]
  },
  {
   "cell_type": "code",
   "execution_count": 190,
   "metadata": {
    "scrolled": true
   },
   "outputs": [
    {
     "data": {
      "text/plain": [
       "['                            灰小猿                        ',\n",
       " '                            L e x                        ',\n",
       " '                            退休的龙叔                        ',\n",
       " '                            林新发                        ',\n",
       " '                            与非学堂                        ',\n",
       " '                            韶光不负                        ',\n",
       " '                            叶庭云                        ',\n",
       " '                            Amo Xiang                        ',\n",
       " '                            yk 坤帝                        ',\n",
       " '                            yunyun云芸                        ',\n",
       " '                            刘润森！                        ',\n",
       " '                            测试baby                        ',\n",
       " '                            程序员启航                        ',\n",
       " '                            BudingCode                        ',\n",
       " '                            wendy_ya                        ',\n",
       " '                            new nm个对象                        ',\n",
       " '                            高校俱乐部                        ',\n",
       " '                            小宋是呢                        ',\n",
       " '                            Rgylin                        ',\n",
       " '                            数据分析与统计学之美                        ',\n",
       " '                            yunyun云芸                        ']"
      ]
     },
     "execution_count": 190,
     "metadata": {},
     "output_type": "execute_result"
    }
   ],
   "source": [
    "# 通过正则化来获取要爬取的博主字段\n",
    "user_name=re.compile('\" target=\"_blank\">\\n(.*?)</a>\\n')\n",
    "user_name.findall(response.text)"
   ]
  },
  {
   "cell_type": "code",
   "execution_count": 171,
   "metadata": {
    "scrolled": true
   },
   "outputs": [
    {
     "data": {
      "text/plain": [
       "['                                                        这几个5.20表白代码发给你女神，还没有女朋友直接来找我！                                                    ',\n",
       " '                                                        昨晚，我用python帮隔壁小姐姐P证件照 自拍，然后发现。。。                                                    ',\n",
       " '                                                        在校大学生想当程序员，听老叔这番话，你会少走很多弯路【18年开发经验分享】                                                    ',\n",
       " '                                                        520程序员的浪漫，给CSDN近两万的粉丝比心心（python爬虫 | Unity循环复用列表 | 头像加载与缓存）                                                    ',\n",
       " '                                                        30个必考Python知识点整理                                                    ',\n",
       " '                                                        python爬取爱xx热门电影                                                    ',\n",
       " '                                                        Python玩转emoji表情   一行代码的事儿！                                                    ',\n",
       " '                                                        超详细的 Python 方法、函数总结                                                    ',\n",
       " '                                                        全网最全python爬虫精进（体系学习）学完可就业（附源代码）                                                    ',\n",
       " '                                                        程序员的朋友圈就是要这么秀，用Python做九宫格照片                                                    ',\n",
       " '                                                        Python只需要三十行代码，打造一款简单的人工语音对话                                                    ',\n",
       " '                                                        为了入职大公司，我是如何学会python自动化的！别人口中的&ldquo;我还年轻&rdquo;，我在&ldquo;摸爬滚打&rdquo;...                                                    ',\n",
       " '                                                        一篇文章带你搞懂Python中的类                                                    ',\n",
       " '                                                        一行代码让你的python计算速度提高十倍                                                    ',\n",
       " '                                                        Python入门之开发环境配置：Anaconda与PyCharm的安装详解                                                    ',\n",
       " '                                                        python自动化（五）接口自动化：1.接口测试基础                                                    ',\n",
       " '                                                        进大厂全靠它了！10个Python实战项目+5张Python图谱打包给你！                                                    ',\n",
       " '                                                        『Python开发实战菜鸟教程』爬虫快速入门实战：统计分析CSDN与博客园博客阅读数据                                                    ',\n",
       " '                                                        第十四届全国大学生信息安全竞赛部分wp                                                    ',\n",
       " '                                                        【阅读3.8w，收藏2000次】97页《Python自动化办公文档》，让您的 &ldquo;办公效率&rdquo; 提高100倍，拿走即用！                                                    ',\n",
       " '                                                        你想象的黑客是什么样的？Python是黑客攻击语言的不二之选吗？                                                    ']"
      ]
     },
     "execution_count": 171,
     "metadata": {},
     "output_type": "execute_result"
    }
   ],
   "source": [
    "# 通过正则化来获取要爬取的题目字段\n",
    "title_name=re.compile('>\\n(.*?)</a>\\n                    </h2>\\n                                                                ')\n",
    "title_name.findall(response.text)"
   ]
  },
  {
   "cell_type": "markdown",
   "metadata": {},
   "source": [
    "# bs4"
   ]
  },
  {
   "cell_type": "code",
   "execution_count": 189,
   "metadata": {
    "scrolled": true
   },
   "outputs": [
    {
     "name": "stdout",
     "output_type": "stream",
     "text": [
      "\n",
      "                                                        这几个5.20表白代码发给你女神，还没有女朋友直接来找我！                                                    \n",
      "\n",
      "                                                        昨晚，我用python帮隔壁小姐姐P证件照 自拍，然后发现。。。                                                    \n",
      "\n",
      "                                                        在校大学生想当程序员，听老叔这番话，你会少走很多弯路【18年开发经验分享】                                                    \n",
      "\n",
      "                                                        520程序员的浪漫，给CSDN近两万的粉丝比心心（python爬虫 | Unity循环复用列表 | 头像加载与缓存）                                                    \n",
      "\n",
      "                                                        30个必考Python知识点整理                                                    \n",
      "\n",
      "                                                        python爬取爱xx热门电影                                                    \n",
      "\n",
      "                                                        Python玩转emoji表情   一行代码的事儿！                                                    \n",
      "\n",
      "                                                        超详细的 Python 方法、函数总结                                                    \n",
      "\n",
      "                                                        全网最全python爬虫精进（体系学习）学完可就业（附源代码）                                                    \n",
      "\n",
      "                                                        程序员的朋友圈就是要这么秀，用Python做九宫格照片                                                    \n",
      "\n",
      "                                                        Python只需要三十行代码，打造一款简单的人工语音对话                                                    \n",
      "\n",
      "                                                        为了入职大公司，我是如何学会python自动化的！别人口中的“我还年轻”，我在“摸爬滚打”...                                                    \n",
      "\n",
      "                                                        一篇文章带你搞懂Python中的类                                                    \n",
      "\n",
      "                                                        一行代码让你的python计算速度提高十倍                                                    \n",
      "\n",
      "                                                        Python入门之开发环境配置：Anaconda与PyCharm的安装详解                                                    \n",
      "\n",
      "                                                        python自动化（五）接口自动化：1.接口测试基础                                                    \n",
      "\n",
      "                                                        进大厂全靠它了！10个Python实战项目+5张Python图谱打包给你！                                                    \n",
      "\n",
      "                                                        『Python开发实战菜鸟教程』爬虫快速入门实战：统计分析CSDN与博客园博客阅读数据                                                    \n",
      "\n",
      "                                                        第十四届全国大学生信息安全竞赛部分wp                                                    \n",
      "\n",
      "                                                        【阅读3.8w，收藏2000次】97页《Python自动化办公文档》，让您的 “办公效率” 提高100倍，拿走即用！                                                    \n",
      "\n",
      "                                                        你想象的黑客是什么样的？Python是黑客攻击语言的不二之选吗？                                                    \n"
     ]
    }
   ],
   "source": [
    "# 导入需要的库\n",
    "from bs4 import BeautifulSoup\n",
    "#1、实例化一个BeautifulSoup并将页面源码导入对象中\n",
    "soup=BeautifulSoup(response.text,'lxml')\n",
    "#2、标签定位\n",
    "title_list=soup.find_all(class_=\"title\")  #提取出所有的class属性为“title”的组成构成title_list\n",
    "for title in title_list:\n",
    "    a_title=title.find('a')\n",
    "   #3、内容捕获\n",
    "    print(a_title.text) "
   ]
  },
  {
   "cell_type": "code",
   "execution_count": 84,
   "metadata": {
    "scrolled": true
   },
   "outputs": [
    {
     "name": "stdout",
     "output_type": "stream",
     "text": [
      "\n",
      "                                                        Python玩转emoji表情   一行代码的事儿！                                                    \n",
      "\n",
      "                                                        全网最全python爬虫精进（体系学习）学完可就业（附源代码）                                                    \n",
      "\n",
      "                                                        你想象的黑客是什么样的？Python是黑客攻击语言的不二之选吗？                                                    \n",
      "\n",
      "                                                        女友半夜加班发自拍 python男友用30行代码发现惊天秘密                                                    \n",
      "\n",
      "                                                        价值一个亿的 Python 方法、函数总结，学妹直呼心疼哥哥                                                    \n",
      "\n",
      "                                                        Python生成字符视频                                                    \n",
      "\n",
      "                                                        『Python爬虫菜鸟教程』快速入门实战：统计分析CSDN与博客园博客阅读数据                                                    \n",
      "\n",
      "                                                        第十四届全国大学生信息安全竞赛部分wp                                                    \n",
      "\n",
      "                                                        进大厂全靠它了！10个Python实战项目+5张Python图谱打包给你！                                                    \n",
      "\n",
      "                                                        python自动化（五）接口自动化：1.接口测试基础                                                    \n",
      "\n",
      "荐\n",
      "                                                        [Python图像处理] 四十.全网首发Python图像分割万字详解（阈值分割、边缘分割、纹理分割、分水岭算法、K-Means分割、漫水填充分割、区域定位）                                                    \n",
      "\n",
      "                                                        500道全网最新python面试习题（大厂面试经典，从此面试不在愁）持续更新中（附源代码）                                                    \n",
      "\n",
      "                                                        【python自学】七个超强学习网站，你值得拥有！                                                    \n",
      "\n",
      "                                                        还在为520礼物发愁吗？教你用python撩女朋友                                                    \n",
      "\n",
      "                                                        隔壁小姐姐半夜匆匆忙忙来敲门，哭着边跑边跟我说：“python小哥哥 帮帮我”                                                    \n",
      "\n",
      "                                                        关于 pip 的 15 个使用小技巧                                                    \n",
      "\n",
      "                                                        超详细的 Python 基础语句总结(多实例、视频讲解持续更新)                                                    \n",
      "\n",
      "                                                        “女生当程序员？”你们骂我，我也要说！                                                    \n",
      "\n",
      "                                                        matplotlib数据可视化三分钟入门，半小时入魔？                                                    \n",
      "\n",
      "                                                        张老师讲Python~                                                    \n",
      "\n",
      "                                                        番外.1.Python高级用法                                                    \n"
     ]
    }
   ],
   "source": [
    "# bs4的另外一种标签定位方法\n",
    "title_list=soup.select('.title > h2 > a')  #通过层级标签定位到title，并获取所有的title\n",
    "for title in title_list:\n",
    "    print(title.text)   # 提取每一个title对应的文本题目"
   ]
  },
  {
   "cell_type": "markdown",
   "metadata": {},
   "source": [
    "# xpath"
   ]
  },
  {
   "cell_type": "code",
   "execution_count": 185,
   "metadata": {
    "scrolled": true
   },
   "outputs": [
    {
     "data": {
      "text/plain": [
       "['\\n                                                        这几个5.20表白代码发给你女神，还没有女朋友直接来找我！                                                    ',\n",
       " '\\n                                                        昨晚，我用python帮隔壁小姐姐P证件照 自拍，然后发现。。。                                                    ',\n",
       " '\\n                                                        在校大学生想当程序员，听老叔这番话，你会少走很多弯路【18年开发经验分享】                                                    ',\n",
       " '\\n                                                        520程序员的浪漫，给CSDN近两万的粉丝比心心（python爬虫 | Unity循环复用列表 | 头像加载与缓存）                                                    ',\n",
       " '\\n                                                        30个必考Python知识点整理                                                    ',\n",
       " '\\n                                                        python爬取爱xx热门电影                                                    ',\n",
       " '\\n                                                        Python玩转emoji表情   一行代码的事儿！                                                    ',\n",
       " '\\n                                                        超详细的 Python 方法、函数总结                                                    ',\n",
       " '\\n                                                        全网最全python爬虫精进（体系学习）学完可就业（附源代码）                                                    ',\n",
       " '\\n                                                        程序员的朋友圈就是要这么秀，用Python做九宫格照片                                                    ',\n",
       " '\\n                                                        Python只需要三十行代码，打造一款简单的人工语音对话                                                    ',\n",
       " '\\n                                                        为了入职大公司，我是如何学会python自动化的！别人口中的“我还年轻”，我在“摸爬滚打”...                                                    ',\n",
       " '\\n                                                        一篇文章带你搞懂Python中的类                                                    ',\n",
       " '\\n                                                        一行代码让你的python计算速度提高十倍                                                    ',\n",
       " '\\n                                                        Python入门之开发环境配置：Anaconda与PyCharm的安装详解                                                    ',\n",
       " '\\n                                                        python自动化（五）接口自动化：1.接口测试基础                                                    ',\n",
       " '\\n                                                        进大厂全靠它了！10个Python实战项目+5张Python图谱打包给你！                                                    ',\n",
       " '\\n                                                        『Python开发实战菜鸟教程』爬虫快速入门实战：统计分析CSDN与博客园博客阅读数据                                                    ',\n",
       " '\\n                                                        第十四届全国大学生信息安全竞赛部分wp                                                    ',\n",
       " '\\n                                                        【阅读3.8w，收藏2000次】97页《Python自动化办公文档》，让您的 “办公效率” 提高100倍，拿走即用！                                                    ',\n",
       " '\\n                                                        你想象的黑客是什么样的？Python是黑客攻击语言的不二之选吗？                                                    ']"
      ]
     },
     "execution_count": 185,
     "metadata": {},
     "output_type": "execute_result"
    }
   ],
   "source": [
    "# 实例化一个etree对象\n",
    "from lxml import etree\n",
    "#1、实例化一个etree并将页面源码加载到对象中\n",
    "tree=etree.HTML(response.text)  \n",
    "#2、进行标签定位和内容提取\n",
    "tree.xpath('//div[@class=\"title\"]/h2/a/text()')   #//div[@class=\"title\"]/h2/a为标签定位，/text()为内容提取"
   ]
  },
  {
   "cell_type": "code",
   "execution_count": 149,
   "metadata": {
    "scrolled": true
   },
   "outputs": [
    {
     "data": {
      "text/plain": [
       "['9619',\n",
       " '5623',\n",
       " '6058',\n",
       " '78305',\n",
       " '5646',\n",
       " '7232',\n",
       " '3585',\n",
       " '2770',\n",
       " '2196',\n",
       " '1021',\n",
       " '2527',\n",
       " '3985',\n",
       " '16490',\n",
       " '2624',\n",
       " '5609',\n",
       " '1299',\n",
       " '13421',\n",
       " '9427',\n",
       " '581',\n",
       " '1235',\n",
       " '1643']"
      ]
     },
     "execution_count": 149,
     "metadata": {},
     "output_type": "execute_result"
    }
   ],
   "source": [
    "# 通过xpath获取帖子阅读数\n",
    "tree.xpath('//dd[@class=\"read_num\"]/a/span[@class=\"num\"]/text()')"
   ]
  },
  {
   "cell_type": "code",
   "execution_count": 182,
   "metadata": {
    "scrolled": true
   },
   "outputs": [
    {
     "data": {
      "text/plain": [
       "['246',\n",
       " '247',\n",
       " '181',\n",
       " '20',\n",
       " '14',\n",
       " '43',\n",
       " '91',\n",
       " '83',\n",
       " '23',\n",
       " '25',\n",
       " '15',\n",
       " '33',\n",
       " '15',\n",
       " '20',\n",
       " '20',\n",
       " '20',\n",
       " '17',\n",
       " '24',\n",
       " '21',\n",
       " '11',\n",
       " '37']"
      ]
     },
     "execution_count": 182,
     "metadata": {},
     "output_type": "execute_result"
    }
   ],
   "source": [
    "# 通过xpath获取帖子评论数\n",
    "tree.xpath('//dd[@class=\"common_num \"]/a/span[@class=\"num\"]/text()')"
   ]
  }
 ],
 "metadata": {
  "kernelspec": {
   "display_name": "Python 3",
   "language": "python",
   "name": "python3"
  },
  "language_info": {
   "codemirror_mode": {
    "name": "ipython",
    "version": 3
   },
   "file_extension": ".py",
   "mimetype": "text/x-python",
   "name": "python",
   "nbconvert_exporter": "python",
   "pygments_lexer": "ipython3",
   "version": "3.8.5"
  }
 },
 "nbformat": 4,
 "nbformat_minor": 4
}
